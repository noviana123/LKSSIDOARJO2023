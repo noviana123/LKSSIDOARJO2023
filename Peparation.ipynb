{
 "cells": [
  {
   "cell_type": "markdown",
   "id": "d7fcc4cf",
   "metadata": {},
   "source": [
    "# 1. Pengertian"
   ]
  },
  {
   "cell_type": "raw",
   "id": "75a71a51",
   "metadata": {},
   "source": [
    "Data preparation adalah proses pengumpulan, penggabungan, penataan, dan pengorganisasian data sehingga dapat digunakan dalam machine learning, analitik, dan visualisasi data. "
   ]
  },
  {
   "cell_type": "markdown",
   "id": "bcc3b0fe",
   "metadata": {},
   "source": [
    "# 2. Langkah yang dilakukan yaitu : "
   ]
  },
  {
   "cell_type": "raw",
   "id": "cdde1c50",
   "metadata": {},
   "source": [
    "#Import libary-libary yang digunakan\n",
    "import pandas as pd\n",
    "import matplotlib.pyplot as plt\n",
    "import numpy as np\n",
    "import seaborn as sns"
   ]
  },
  {
   "cell_type": "raw",
   "id": "e1b57b22",
   "metadata": {},
   "source": [
    "#Menload data\n",
    "df = pd.read_csv(\"Nama_Excel.csv\")\n",
    "df"
   ]
  },
  {
   "cell_type": "raw",
   "id": "952e53d6",
   "metadata": {},
   "source": [
    "Penjelasan disetiap arti variabelnya."
   ]
  },
  {
   "cell_type": "markdown",
   "id": "b5c668ed",
   "metadata": {},
   "source": [
    "## Exploratory Data Analysis"
   ]
  },
  {
   "cell_type": "raw",
   "id": "4ff74424",
   "metadata": {},
   "source": [
    "df.info() = melihat informasi dari dataset\n",
    "df.shape = melihat jumlah baris dan varibelnya\n",
    "df.describe() = melihat deskripsi dataset (mean, count, dll)\n",
    "df.isnull().sum() = melihat nilai nan\n",
    "df.corr() = melihat nilai kolerasi dataset\n",
    "df.unique() = melihat nilai uniq tiap variabel\n"
   ]
  },
  {
   "cell_type": "raw",
   "id": "2cef8aaa",
   "metadata": {},
   "source": [
    "Visualisasi Kolerasi\n",
    "\n",
    "#Menampilkan visualisasi kolerasi data\n",
    "correlation = df.corr()\n",
    "plt.figure(figsize=(12,8))\n",
    "ax = sns.heatmap(correlation, square=True, annot=True, fmt='.2f', linecolor='white')\n",
    "ax.set_xticklabels(ax.get_xticklabels(), rotation=90)\n",
    "ax.set_yticklabels(ax.get_yticklabels(), rotation=30)           \n",
    "plt.show()\n",
    "#sns.heatmap(kolerasi);"
   ]
  },
  {
   "cell_type": "raw",
   "id": "a1383b43",
   "metadata": {},
   "source": [
    "Melihat outlier\n",
    "\n",
    "#Bentuk Histogram Lain (maksimal 4 variabel)\n",
    "plt.figure(figsize=(20,20))\n",
    "\n",
    "plt.subplot(2, 2, 1)\n",
    "fig = df.boxplot(column='Selling_Price')\n",
    "fig.set_title('')\n",
    "fig.set_ylabel('Selling_Price')\n",
    "\n",
    "\n",
    "plt.subplot(2, 2, 2)\n",
    "fig = df.boxplot(column='Present_Price')\n",
    "fig.set_title('')\n",
    "fig.set_ylabel('Present_Price')\n",
    "\n",
    "plt.subplot(2, 2, 3)\n",
    "fig = df.boxplot(column='Driven_kms')\n",
    "fig.set_title('')\n",
    "fig.set_ylabel('Driven_kms')"
   ]
  },
  {
   "cell_type": "raw",
   "id": "2a160b4c",
   "metadata": {},
   "source": [
    "kurang cara liar numeric dan katagorical"
   ]
  }
 ],
 "metadata": {
  "kernelspec": {
   "display_name": "Python 3 (ipykernel)",
   "language": "python",
   "name": "python3"
  },
  "language_info": {
   "codemirror_mode": {
    "name": "ipython",
    "version": 3
   },
   "file_extension": ".py",
   "mimetype": "text/x-python",
   "name": "python",
   "nbconvert_exporter": "python",
   "pygments_lexer": "ipython3",
   "version": "3.10.1"
  }
 },
 "nbformat": 4,
 "nbformat_minor": 5
}
