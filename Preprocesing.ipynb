{
 "cells": [
  {
   "cell_type": "markdown",
   "id": "230b5c1d",
   "metadata": {},
   "source": [
    "# 1. Pengertian"
   ]
  },
  {
   "cell_type": "raw",
   "id": "1975760d",
   "metadata": {},
   "source": [
    "Preprocessing ini mengolah data mentah menjadi data yang lebih berkualitas."
   ]
  },
  {
   "cell_type": "markdown",
   "id": "257a2bd9",
   "metadata": {},
   "source": [
    "# 2. Langkah yang dikerjakan yaitu:"
   ]
  },
  {
   "cell_type": "raw",
   "id": "094a4f20",
   "metadata": {},
   "source": [
    "Mengatasi Missing Value (nilai yang kosong)\n",
    "\n",
    "df['Next_Tmax'] = df['Next_Tmax'].fillna(df['Next_Tmax'].mean())\n",
    "df['Present_Tmax'] = df['Present_Tmax'].fillna(df['Present_Tmax'].mean())\n",
    "\n",
    "jika datanya numerik dan tanpa class maka langsung menggunakan fillna mean. Akan tetapi jika datanya numerik (0 dan 1 yg menyatakan yes dan no) maka menggunakan fillna grubby\n",
    "\n",
    "df['MinTemp'] = df['MinTemp'].fillna(df.groupby(\"RainTomorrow\")['MinTemp'].transform(\"mean\"))\n",
    "df['MaxTemp'] = df['MaxTemp'].fillna(df.groupby(\"RainTomorrow\")['MaxTemp'].transform(\"mean\"))"
   ]
  },
  {
   "cell_type": "raw",
   "id": "3d6bb3ec",
   "metadata": {},
   "source": [
    "Mengatasi Outlier (Nilai yang sangat berbeda jauh dengan nilai yang data yang lainnya)\n",
    "\n",
    "#Mengatasi Outlier\n",
    "features_with_outliers = ['Selling_Price', 'Present_Price', 'Driven_kms']\n",
    "for feature in features_with_outliers:\n",
    "    q1 = df[feature].quantile(0.25)\n",
    "    q3 = df[feature].quantile(0.75)\n",
    "    IQR = q3-q1\n",
    "    lower_limit = q1 - (IQR*1.5)\n",
    "    upper_limit = q3 + (IQR*1.5)\n",
    "    df.loc[df[feature]<lower_limit,feature] = lower_limit\n",
    "    df.loc[df[feature]>upper_limit,feature] = upper_limit"
   ]
  },
  {
   "cell_type": "raw",
   "id": "7ba0af93",
   "metadata": {},
   "source": [
    "Mengubah data kategorical ke numerical (LabelEn Coder)\n",
    "\n",
    "from sklearn.preprocessing import LabelEncoder\n",
    "\n",
    "le = LabelEncoder()\n",
    "df['Location'] = le.fit_transform(df['Location'])\n",
    "f_location = le.classes_\n",
    "df['WindGustDir'] = le.fit_transform(df['WindGustDir'])\n",
    "f_WindGustDir = le.classes_"
   ]
  },
  {
   "cell_type": "markdown",
   "id": "43b8506f",
   "metadata": {},
   "source": [
    "# Fitur Selection"
   ]
  },
  {
   "cell_type": "raw",
   "id": "68637cc0",
   "metadata": {},
   "source": [
    "Ini nanti buat 2 file untuk perbandingan lebih bagus pake fitur selecsi atau engga. Tapi silahkan diselesaikan jika ga pake dulu."
   ]
  },
  {
   "cell_type": "raw",
   "id": "fb37db2e",
   "metadata": {},
   "source": [
    "# Data Regressi\n",
    "# linear regression feature importance\n",
    "from sklearn.linear_model import LinearRegression\n",
    "from matplotlib import pyplot\n",
    "# define the model\n",
    "model = LinearRegression()\n",
    "# fit the model\n",
    "model.fit(X, y)\n",
    "# get importance\n",
    "importance = model.coef_\n",
    "# Koefisien ini dapat menjadi dasar untuk skor kepentingan fitur kasar\n",
    "# summarize feature importance\n",
    "for i,v in enumerate(importance):\n",
    " print('Feature: %0d, Score: %.5f' % (i,v))\n",
    "# plot feature importance\n",
    "pyplot.bar([x for x in range(len(importance))], importance)\n",
    "pyplot.show()"
   ]
  },
  {
   "cell_type": "raw",
   "id": "c17c8d6c",
   "metadata": {},
   "source": [
    "#Menghapus variabel yang tidak terlalu berpengharuh\n",
    "x = X.drop(['LDAPS_RHmax', 'LDAPS_WS', 'LDAPS_CC1', 'LDAPS_CC2', 'LDAPS_CC3', 'LDAPS_CC4', 'LDAPS_PPT1', 'LDAPS_PPT3', 'lat', 'lon', 'DEM'], axis=1)\n",
    "\n",
    "ini dilihat dari nilai negatif\""
   ]
  },
  {
   "cell_type": "raw",
   "id": "739dc572",
   "metadata": {},
   "source": [
    "Catatan : Nilai korelasi sebelum dan sesudah silahkan di bandingan variabel apa yg memiliki nilai korelasi tinggi"
   ]
  }
 ],
 "metadata": {
  "kernelspec": {
   "display_name": "Python 3 (ipykernel)",
   "language": "python",
   "name": "python3"
  },
  "language_info": {
   "codemirror_mode": {
    "name": "ipython",
    "version": 3
   },
   "file_extension": ".py",
   "mimetype": "text/x-python",
   "name": "python",
   "nbconvert_exporter": "python",
   "pygments_lexer": "ipython3",
   "version": "3.10.1"
  }
 },
 "nbformat": 4,
 "nbformat_minor": 5
}
