{
 "cells": [
  {
   "cell_type": "markdown",
   "id": "8e936dc9",
   "metadata": {},
   "source": [
    "# 1. Bisa pakai split test train biasa ataupun Kfold"
   ]
  },
  {
   "cell_type": "raw",
   "id": "89f9c9c4",
   "metadata": {},
   "source": [
    "Mendefinisikan dulu\n",
    "\n",
    "X = df.drop(['Next_Tmax'], axis=1)\n",
    "y = df['Next_Tmax']"
   ]
  },
  {
   "cell_type": "raw",
   "id": "6f2ed2e4",
   "metadata": {},
   "source": [
    "lalu split\n",
    "\n",
    "1. split test train biasa\n",
    "\n",
    "from sklearn.model_selection import train_test_split\n",
    "X_train, X_test, y_train, y_test = train_test_split(X, y, test_size = 0.2, random_state = 0)\n",
    "\n",
    "2. split pake kfold\n",
    "\n",
    "from sklearn.model_selection import KFold \n",
    "\n",
    "cv = KFold(n_splits=5)\n",
    "\n",
    "for train_index, test_index in cv.split(X):\n",
    "    X_train, X_test = X.iloc[train_index], X.iloc[test_index]\n",
    "    y_train, y_test = y.iloc[train_index], y.iloc[test_index]"
   ]
  },
  {
   "cell_type": "markdown",
   "id": "7f655cfe",
   "metadata": {},
   "source": [
    "# 2. Feature Scaling "
   ]
  },
  {
   "cell_type": "raw",
   "id": "213c0c95",
   "metadata": {},
   "source": [
    "suatu cara untuk membuat numerical data pada dataset memiliki rentang nilai (scale) yang sama. Tidak ada lagi satu variabel data yang mendominasi variabel data lainnya. Diatas kertas, rumus yang digunakan untuk proses Feature Scaling ini adalah Standarisation atau Normalisation:"
   ]
  },
  {
   "cell_type": "raw",
   "id": "d3d6df6f",
   "metadata": {},
   "source": [
    "Ada 3 metode dalam normalisasi, yaitu:\n",
    "\n",
    "a. Simple Feature Scaling\n",
    "\n",
    "from sklearn.preprocessing import StandardScaler\n",
    "stdscalar = StandardScaler()\n",
    "datascale = stdscalar.fit_transform(f_X)\n",
    "\n",
    "from sklearn.preprocessing import Normalizer\n",
    "normscaler = Normalizer()\n",
    "datanorm = normscaler.fit_transform(f_X)\n",
    "\n",
    "b. Min-Max\n",
    "from sklearn.preprocessing import MinMaxScaler\n",
    "scaler = MinMaxScaler()\n",
    "X_train = scaler.fit_transform(X)\n",
    "X_test = scaler.transform(X)\n",
    "\n",
    "c. Z-score\n",
    "from scipy import stats\n",
    "arr2 = (X, y)\n",
    "print (\"\\nZ-score for arr2 : \\n\", stats.zscore(arr2, axis = 0))"
   ]
  },
  {
   "cell_type": "markdown",
   "id": "2070ec66",
   "metadata": {},
   "source": [
    "# 3. Modeling"
   ]
  },
  {
   "cell_type": "markdown",
   "id": "713f6c69",
   "metadata": {},
   "source": [
    "## A. DECICIONTREE"
   ]
  },
  {
   "cell_type": "raw",
   "id": "ec43878c",
   "metadata": {},
   "source": [
    "Algoritma DecicionTree dipake untuk tipe data prediksi numerik tanpa class (yes, no)\n",
    "\n",
    "from sklearn.tree import DecisionTreeRegressor\n",
    "\n",
    "# Fit regression model\n",
    "regr_1 = DecisionTreeRegressor(max_depth=2)\n",
    "regr_2 = DecisionTreeRegressor(max_depth=5)\n",
    "model = regr_1.fit(X, y)\n",
    "regr_2.fit(X, y)"
   ]
  },
  {
   "cell_type": "raw",
   "id": "8de7a9de",
   "metadata": {},
   "source": [
    "#Training 80%\n",
    "print(X.shape)\n",
    "print(X_train.shape)\n",
    "print(X_test.shape)\n",
    "\n",
    "#Testing 20%\n",
    "print(y.shape)\n",
    "print(y_train.shape)\n",
    "print(y_test.shape)"
   ]
  },
  {
   "cell_type": "raw",
   "id": "2393d727",
   "metadata": {},
   "source": [
    "y_pred_test = regr_1.predict(X_test)\n",
    "\n",
    "y_pred_test\n",
    "\n",
    "---------------\n",
    "\n",
    "y_pred_train = regr_1.predict(X_train)\n",
    "\n",
    "y_pred_train\n",
    "\n",
    "---------------\n",
    "\n",
    "# print the scores on training and test set\n",
    "\n",
    "print('Training set score: {:.4f}'.format(regr_1.score(X_train, y_train)))\n",
    "\n",
    "print('Test set score: {:.4f}'.format(regr_1.score(X_test, y_test)))"
   ]
  },
  {
   "cell_type": "markdown",
   "id": "5f20f74f",
   "metadata": {},
   "source": [
    "## B. LOGISTIGREGRESI"
   ]
  },
  {
   "cell_type": "raw",
   "id": "9531fb3e",
   "metadata": {},
   "source": [
    "Algoritma LogisticRegresi dipake untuk tipe data prediksi ada class (yes, no)\n",
    "\n",
    "# train a logistic regression model on the training set\n",
    "from sklearn.linear_model import LogisticRegression\n",
    "\n",
    "# instantiate the model\n",
    "logreg = LogisticRegression(solver='liblinear', random_state=0)\n",
    "\n",
    "# fit the model\n",
    "logreg.fit(X_train, y_train)\n",
    "\n",
    "-----------------\n",
    "\n",
    "# fit the Logsitic Regression model with C=100\n",
    "\n",
    "# instantiate the model\n",
    "logreg100 = LogisticRegression(C=100, solver='liblinear', random_state=0)\n",
    "\n",
    "\n",
    "# fit the model\n",
    "logreg100.fit(X_train, y_train)"
   ]
  },
  {
   "cell_type": "raw",
   "id": "7fe6f2a8",
   "metadata": {},
   "source": [
    "#Training 80%\n",
    "print(X.shape)\n",
    "print(X_train.shape)\n",
    "print(X_test.shape)\n",
    "\n",
    "#Testing 20%\n",
    "print(y.shape)\n",
    "print(y_train.shape)\n",
    "print(y_test.shape)"
   ]
  },
  {
   "cell_type": "raw",
   "id": "230c9dd9",
   "metadata": {},
   "source": [
    "y_pred_test = logreg.predict(X_test)\n",
    "\n",
    "y_pred_test\n",
    "\n",
    "----------------\n",
    "\n",
    "y_pred_train = logreg.predict(X_train)\n",
    "\n",
    "y_pred_train\n",
    "\n",
    "----------------\n",
    "\n",
    "# probability of getting output as 0 - no rain\n",
    "\n",
    "logreg.predict_proba(X_test)[:,0]\n",
    "\n",
    "-------------------\n",
    "\n",
    "\n",
    "# probability of getting output as 1 - rain\n",
    "\n",
    "logreg.predict_proba(X_test)[:,1]\n",
    "\n",
    "--------------------\n",
    "\n",
    "# print the scores on training and test set\n",
    "\n",
    "print('Training set score: {:.4f}'.format(logreg.score(X_train, y_train)))\n",
    "\n",
    "print('Test set score: {:.4f}'.format(logreg.score(X_test, y_test)))"
   ]
  },
  {
   "cell_type": "markdown",
   "id": "cb982a3f",
   "metadata": {},
   "source": [
    "# 4. Evaluasi Model"
   ]
  },
  {
   "cell_type": "raw",
   "id": "b37ab412",
   "metadata": {},
   "source": [
    "Kalo tipe datanya ada clas (yes,no) = confusion matrix\n",
    "kalo tipe datanya da ada clas = mean (MEA, MES, dll)"
   ]
  },
  {
   "cell_type": "markdown",
   "id": "3755c94e",
   "metadata": {},
   "source": [
    "## a. Confusion Matrix"
   ]
  },
  {
   "cell_type": "raw",
   "id": "f4aeb980",
   "metadata": {},
   "source": [
    "# Print the Confusion Matrix and slice it into four pieces\n",
    "\n",
    "from sklearn.metrics import confusion_matrix\n",
    "\n",
    "cm = confusion_matrix(y_test, y_pred_test)\n",
    "\n",
    "print('Confusion matrix\\n\\n', cm)\n",
    "\n",
    "print('\\nTrue Positives(TP) = ', cm[0,0])\n",
    "\n",
    "print('\\nTrue Negatives(TN) = ', cm[1,1])\n",
    "\n",
    "print('\\nFalse Positives(FP) = ', cm[0,1])\n",
    "\n",
    "print('\\nFalse Negatives(FN) = ', cm[1,0])"
   ]
  },
  {
   "cell_type": "raw",
   "id": "c384f6aa",
   "metadata": {},
   "source": [
    "from sklearn.metrics import classification_report\n",
    "\n",
    "print(classification_report(y_test, y_pred_test))"
   ]
  },
  {
   "cell_type": "raw",
   "id": "06cf563f",
   "metadata": {},
   "source": [
    "sns.set(font_scale=1.5)\n",
    "from sklearn.metrics import ConfusionMatrixDisplay\n",
    "ConfusionMatrixDisplay.from_predictions(y_test, y_pred_test)"
   ]
  },
  {
   "cell_type": "markdown",
   "id": "45f7e561",
   "metadata": {},
   "source": [
    "## b. Mean (MEA, MES, dll)"
   ]
  },
  {
   "cell_type": "raw",
   "id": "59f2e236",
   "metadata": {},
   "source": [
    "from sklearn import metrics\n",
    "mae = metrics.mean_absolute_error(y_train, y_pred_train)\n",
    "mse = metrics.mean_squared_error(y_train, y_pred_train)\n",
    "r2 = metrics.r2_score(y_train, y_pred_train)\n",
    "\n",
    "print(\"The model performance for testing set\")\n",
    "print(\"--------------------------------------\")\n",
    "print('MAE is {}'.format(mae))\n",
    "print('MSE is {}'.format(mse))\n",
    "print('R2 score is {}'.format(r2))"
   ]
  },
  {
   "cell_type": "markdown",
   "id": "eb9863b0",
   "metadata": {},
   "source": [
    "# c. System Predict"
   ]
  },
  {
   "cell_type": "raw",
   "id": "b687242c",
   "metadata": {},
   "source": [
    "df.info()\n",
    "df.head()\n",
    "df.iloc[0]"
   ]
  },
  {
   "cell_type": "raw",
   "id": "c83f966d",
   "metadata": {},
   "source": [
    "input_data = (2,13.4,22.9,0.6,5.734807,8.546358,13,44.0,13,14,20.0,24.0,71.0,22.0,1007.7,1007.1,8.000000,3.921896,16.9,21.8,0)\n",
    "\n",
    "#input data ke numpy array\n",
    "input_data_as_numpy_array= np.asarray(input_data)\n",
    "\n",
    "#input data reshaped\n",
    "input_data_reshaped = input_data_as_numpy_array.reshape(1,-1)\n",
    "\n",
    "prediction = logreg.predict(input_data_reshaped)\n",
    "print(prediction)\n",
    "\n",
    "if(prediction[0]==0):\n",
    "    print('Perkiraan hari besok tidak akan hujan')\n",
    "else:\n",
    "    print('Perkiraan hari besok akan terjadi hujan ')"
   ]
  }
 ],
 "metadata": {
  "kernelspec": {
   "display_name": "Python 3 (ipykernel)",
   "language": "python",
   "name": "python3"
  },
  "language_info": {
   "codemirror_mode": {
    "name": "ipython",
    "version": 3
   },
   "file_extension": ".py",
   "mimetype": "text/x-python",
   "name": "python",
   "nbconvert_exporter": "python",
   "pygments_lexer": "ipython3",
   "version": "3.10.1"
  }
 },
 "nbformat": 4,
 "nbformat_minor": 5
}
