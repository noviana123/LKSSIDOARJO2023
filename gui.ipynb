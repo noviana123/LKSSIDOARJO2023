{
 "cells": [
  {
   "cell_type": "markdown",
   "id": "9dcbe45a",
   "metadata": {},
   "source": [
    "# 1. GUI untuk tipe data class (yes, no)"
   ]
  },
  {
   "cell_type": "raw",
   "id": "4df8b99b",
   "metadata": {},
   "source": [
    "import gradio as gr"
   ]
  },
  {
   "cell_type": "raw",
   "id": "b5f18c5c",
   "metadata": {},
   "source": [
    "print(df.columns)"
   ]
  },
  {
   "cell_type": "raw",
   "id": "fe1ccd1a",
   "metadata": {},
   "source": [
    "a = pd.DataFrame({'a':[1,2], 'b':[3,4]})\n",
    "a"
   ]
  },
  {
   "cell_type": "raw",
   "id": "382d6fee",
   "metadata": {},
   "source": [
    "#create a function for gradio\n",
    "def died(USMER, MEDICAL_UNIT, SEX, PATIENT_TYPE, INTUBED, PNEUMONIA, AGE, PREGNANT, DIABETES, COPD, ASTHMA, INMSUPR, HIPERTENSION, OTHER_DISEASE, CARDIOVASCULAR, OBESITY, RENAL_CHRONIC, TOBACCO, CLASIFFICATION_FINAL, ICU):\n",
    "    df = pd.DataFrame({'USMER':[USMER], 'MEDICAL_UNIT':[MEDICAL_UNIT],'SEX':[SEX],'PATIENT_TYPE':[PATIENT_TYPE],'INTUBED':[INTUBED],'PNEUMONIA':[PNEUMONIA],'AGE':[AGE],'PREGNANT':[PREGNANT],'DIABETES':[DIABETES],'COPD':[COPD],'ASTHMA':[ASTHMA],'INMSUPR':[INMSUPR],'HIPERTENSION':[HIPERTENSION],'OTHER_DISEASE':[OTHER_DISEASE],'CARDIOVASCULAR':[CARDIOVASCULAR],'OBESITY':[OBESITY],'RENAL_CHRONIC':[RENAL_CHRONIC],'TOBACCO':[TOBACCO],'CLASIFFICATION_FINAL':[CLASIFFICATION_FINAL],'ICU':[ICU]})\n",
    "    df = df.replace(97, np.nan, regex=True)\n",
    "    df = df.replace(98, np.nan, regex=True)\n",
    "    df = df.replace(99, np.nan, regex=True)\n",
    "    \n",
    "    df['SEX'] = df['SEX'].replace(to_replace=['Female', 'Male'], value=[1, 2])\n",
    "    df['PATIENT_TYPE'] = df['PATIENT_TYPE'].replace(to_replace=['Home', 'Hospital'], value=[1, 2])\n",
    "    df['INTUBED'] = df['INTUBED'].replace(to_replace=['No', 'yes'], value=[2, 1])\n",
    "    df['PNEUMONIA'] = df['PNEUMONIA'].replace(to_replace=['No', 'yes'], value=[2, 1])\n",
    "    df['PREGNANT'] = df['PREGNANT'].replace(to_replace=['No', 'yes'], value=[2, 1])\n",
    "    df['DIABETES'] = df['DIABETES'].replace(to_replace=['No', 'yes'], value=[2, 1])\n",
    "    df['COPD'] = df['COPD'].replace(to_replace=['No', 'yes'], value=[2, 1])\n",
    "    df['ASTHMA'] = df['ASTHMA'].replace(to_replace=['No', 'yes'], value=[2, 1])\n",
    "    df['INMSUPR'] = df['INMSUPR'].replace(to_replace=['No', 'yes'], value=[2, 1])\n",
    "    df['HIPERTENSION'] = df['HIPERTENSION'].replace(to_replace=['No', 'yes'], value=[2, 1])\n",
    "    df['OTHER_DISEASE'] = df['OTHER_DISEASE'].replace(to_replace=['No', 'yes'], value=[2, 1])\n",
    "    df['CARDIOVASCULAR'] = df['CARDIOVASCULAR'].replace(to_replace=['No', 'yes'], value=[2, 1])\n",
    "    df['OBESITY'] = df['OBESITY'].replace(to_replace=['No', 'yes'], value=[2, 1])\n",
    "    df['RENAL_CHRONIC'] = df['RENAL_CHRONIC'].replace(to_replace=['No', 'yes'], value=[2, 1])\n",
    "    df['TOBACCO'] = df['TOBACCO'].replace(to_replace=['No', 'yes'], value=[2, 1])\n",
    "    df['ICU'] = df['ICU'].replace(to_replace=['No', 'yes'], value=[2, 1])\n",
    "    x = df\n",
    "    x = np.asarray(x)\n",
    "    prediction = model.predict(x.reshape(1, -1))\n",
    "    if prediction==1:\n",
    "        result='Dengan beberapa penyakit yang diidap pasien, kemungkinan besar pasien bisa meninggal dunia'\n",
    "    elif prediction==0:\n",
    "        result='Dengan beberapa penyakit yang diidap pasien, kemungkinan besar pasien masih dapat bertahan hidup'\n",
    "    return result"
   ]
  },
  {
   "cell_type": "raw",
   "id": "95f5e487",
   "metadata": {},
   "source": [
    "outputs = gr.outputs.Textbox()\n",
    "# result = ' '\n",
    "# if outputs==1:\n",
    "#     result='Diabetic'\n",
    "# elif outputs==0:\n",
    "#     result='Non-Diabetic'\n",
    "app = gr.Interface(fn=died, inputs=['number','number','text','text','text','text','number','text', 'text', 'text', 'text', 'text', 'text', 'text', 'text', 'text', 'text', 'text', 'number', 'text'], outputs=outputs,description=\"This is a diabetes model\")\n",
    "app.launch(share=True)"
   ]
  },
  {
   "cell_type": "markdown",
   "id": "30edf961",
   "metadata": {},
   "source": [
    "# 2. Gui tipe data prediksi"
   ]
  },
  {
   "cell_type": "raw",
   "id": "6200c02b",
   "metadata": {},
   "source": [
    "#create a function for gradio\n",
    "def price(Present_Tmax, Present_Tmin, LDAPS_RHmin, LDAPS_Tmax_lapse, LDAPS_Tmin_lapse, LDAPS_LH, LDAPS_PPT2, LDAPS_PPT4, Slope, Solar_radiation):\n",
    "    x = np.array([Present_Tmax, Present_Tmin, LDAPS_RHmin, LDAPS_Tmax_lapse, LDAPS_Tmin_lapse, LDAPS_LH, LDAPS_PPT2, LDAPS_PPT4, Slope, Solar_radiation])\n",
    "    prediction = model.predict(x.reshape(1, -1))\n",
    "    # result = ' '\n",
    "    return prediction"
   ]
  },
  {
   "cell_type": "raw",
   "id": "4b61e28c",
   "metadata": {},
   "source": [
    "outputs = gr.outputs.Textbox()\n",
    "app = gr.Interface(fn=price, inputs=['number','number','number','number','number','number','number','number', 'number', 'number'], outputs=outputs,description=\"This is a Extrime Weather model\")\n",
    "app.launch(share=True)"
   ]
  }
 ],
 "metadata": {
  "kernelspec": {
   "display_name": "Python 3 (ipykernel)",
   "language": "python",
   "name": "python3"
  },
  "language_info": {
   "codemirror_mode": {
    "name": "ipython",
    "version": 3
   },
   "file_extension": ".py",
   "mimetype": "text/x-python",
   "name": "python",
   "nbconvert_exporter": "python",
   "pygments_lexer": "ipython3",
   "version": "3.10.1"
  }
 },
 "nbformat": 4,
 "nbformat_minor": 5
}
